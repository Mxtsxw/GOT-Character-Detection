{
 "cells": [
  {
   "metadata": {},
   "cell_type": "markdown",
   "source": [
    "# Projet Apprentissage Profond - Détection de personnages sur une vidéo\n",
    "\n"
   ],
   "id": "8a77807f92f26ee"
  },
  {
   "metadata": {
    "ExecuteTime": {
     "end_time": "2024-10-23T16:30:33.428855Z",
     "start_time": "2024-10-23T16:30:33.417853Z"
    }
   },
   "cell_type": "code",
   "source": [
    "import mediapipe as mp\n",
    "from mediapipe.tasks import python\n",
    "from mediapipe.tasks.python import vision\n",
    "import cv2 as cv\n",
    "from matplotlib import pyplot as plt\n",
    "from IPython.display import clear_output\n"
   ],
   "id": "fbc121e30a2defb3",
   "outputs": [],
   "execution_count": 10
  },
  {
   "metadata": {
    "ExecuteTime": {
     "end_time": "2024-10-23T16:19:58.072683Z",
     "start_time": "2024-10-23T16:19:58.018117Z"
    }
   },
   "cell_type": "code",
   "source": [
    "\n",
    "BaseOptions = mp.tasks.BaseOptions\n",
    "FaceDetector = mp.tasks.vision.FaceDetector\n",
    "FaceDetectorOptions = mp.tasks.vision.FaceDetectorOptions\n",
    "FaceDetectorResult = mp.tasks.vision.FaceDetectorResult\n",
    "VisionRunningMode = mp.tasks.vision.RunningMode\n",
    "\n",
    "# Create a face detector instance with the live stream mode:\n",
    "def print_result(result: FaceDetectorResult, output_image: mp.Image, timestamp_ms: int):\n",
    "    print('face detector result: {}'.format(result))\n",
    "\n",
    "options = FaceDetectorOptions(\n",
    "    base_options=BaseOptions(model_asset_path='models/blaze_face_short_range.tflite'),\n",
    "    running_mode=VisionRunningMode.LIVE_STREAM,\n",
    "    result_callback=print_result)\n",
    "\n",
    "with FaceDetector.create_from_options(options) as detector:\n",
    "    # Use OpenCV’s VideoCapture to start capturing from the webcam.\n",
    "    \n",
    "    \n",
    "    \n",
    "\n",
    "    # Create a loop to read the latest frame from the camera using VideoCapture#read()\n",
    "    \n",
    "    # Convert the frame received from OpenCV to a MediaPipe’s Image object.\n",
    "    mp_image = mp.Image(image_format=mp.ImageFormat.SRGB, data=numpy_frame_from_opencv)\n",
    "\n",
    "    \n"
   ],
   "id": "db80f83f8ec9bd2c",
   "outputs": [],
   "execution_count": 3
  },
  {
   "metadata": {},
   "cell_type": "code",
   "source": [
    "# Initialize the webcam\n",
    "cap = cv.VideoCapture(0)\n",
    "if not cap.isOpened():\n",
    "    print(\"Cannot open camera\")\n",
    "    exit()\n",
    "\n",
    "try:\n",
    "    while True:\n",
    "        # Capture frame-by-frame\n",
    "        ret, frame = cap.read()\n",
    "\n",
    "        # if frame is read correctly ret is True\n",
    "        if not ret:\n",
    "            print(\"Can't receive frame (stream end?). Exiting ...\")\n",
    "            break\n",
    "\n",
    "        # Convert the frame to grayscale\n",
    "        gray = cv.cvtColor(frame, cv.COLOR_BGR2GRAY)\n",
    "\n",
    "        # Display the resulting frame using matplotlib\n",
    "        clear_output(wait=True)  # Clear previous output for live update effect\n",
    "        plt.imshow(gray, cmap='gray')\n",
    "        plt.axis('off')  # Hide axis\n",
    "        plt.show()\n",
    "\n",
    "        # Break the loop if 'q' is pressed (simulation since waitKey won't work in notebooks)\n",
    "        if cv.waitKey(1) == ord('q'):\n",
    "            break\n",
    "except KeyboardInterrupt:\n",
    "    # Gracefully handle interrupt to stop the capture\n",
    "    print(\"Video capture stopped.\")\n",
    "finally:\n",
    "    # When everything is done, release the capture\n",
    "    cap.release()"
   ],
   "id": "4bf4a1451c837b",
   "execution_count": 11,
   "outputs": []
  },
  {
   "metadata": {},
   "cell_type": "code",
   "outputs": [],
   "execution_count": null,
   "source": "",
   "id": "b5e7d2b9e275d799"
  }
 ],
 "metadata": {
  "kernelspec": {
   "display_name": "Python 3",
   "language": "python",
   "name": "python3"
  },
  "language_info": {
   "codemirror_mode": {
    "name": "ipython",
    "version": 2
   },
   "file_extension": ".py",
   "mimetype": "text/x-python",
   "name": "python",
   "nbconvert_exporter": "python",
   "pygments_lexer": "ipython2",
   "version": "2.7.6"
  }
 },
 "nbformat": 4,
 "nbformat_minor": 5
}
